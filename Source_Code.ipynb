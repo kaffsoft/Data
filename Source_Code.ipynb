{
  "nbformat": 4,
  "nbformat_minor": 0,
  "metadata": {
    "colab": {
      "name": "Untitled4.ipynb",
      "version": "0.3.2",
      "provenance": []
    },
    "kernelspec": {
      "name": "python3",
      "display_name": "Python 3"
    }
  },
  "cells": [
    {
      "cell_type": "code",
      "metadata": {
        "id": "XXK7MyId2rFP",
        "colab_type": "code",
        "colab": {}
      },
      "source": [
        "\n",
        "#Step 1 - Import the necessary libraries and the dataset\n",
        "import pandas as pd\n",
        "import seaborn as sns\n",
        "import matplotlib.pyplot as plt\n",
        "import numpy as np\n",
        "\n",
        "df = pd.read_csv('https://raw.githubusercontent.com/technologycult/PythonForMachineLearning/master/Part62/taxi.csv')\n"
      ],
      "execution_count": 0,
      "outputs": []
    },
    {
      "cell_type": "code",
      "metadata": {
        "id": "0gIy00CD33f-",
        "colab_type": "code",
        "colab": {}
      },
      "source": [
        "features = df.iloc[:,0:-1].values\n",
        "labels = df.iloc[:,-1].values"
      ],
      "execution_count": 0,
      "outputs": []
    },
    {
      "cell_type": "code",
      "metadata": {
        "id": "ncjhMwke34nM",
        "colab_type": "code",
        "colab": {}
      },
      "source": [
        "from sklearn.model_selection import train_test_split\n",
        "X_train, X_test, y_train, y_test = train_test_split(features,labels,test_size=0.3,random_state=0)"
      ],
      "execution_count": 0,
      "outputs": []
    },
    {
      "cell_type": "code",
      "metadata": {
        "id": "ZI_si6p14hk3",
        "colab_type": "code",
        "colab": {}
      },
      "source": [
        "#Step 6 - Create the Linear Model (LinearRegression)\n",
        "from sklearn.linear_model import LinearRegression\n",
        "\n",
        "regressor = LinearRegression()\n",
        "regressor.fit(X_train,y_train)\n",
        "\n",
        "#Step 7 - Interpreting the Coefficient and the Intercept\n",
        "y_pred = regressor.predict(X_test)"
      ],
      "execution_count": 0,
      "outputs": []
    },
    {
      "cell_type": "code",
      "metadata": {
        "id": "iCP8pvZ-4nvc",
        "colab_type": "code",
        "colab": {}
      },
      "source": [
        "X1 = [[87, 15.3812, 17.47, 0]]\n",
        "out1 = regressor.predict(X1)\n",
        "print(out1)"
      ],
      "execution_count": 0,
      "outputs": []
    }
  ]
}